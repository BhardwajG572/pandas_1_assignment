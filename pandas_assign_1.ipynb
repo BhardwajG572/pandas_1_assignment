{
 "cells": [
  {
   "cell_type": "markdown",
   "id": "f66ec9cd",
   "metadata": {},
   "source": [
    "Q . 1 : create a pandas series that contains the following data : 4,8,15,16,23 and 42"
   ]
  },
  {
   "cell_type": "code",
   "execution_count": 2,
   "id": "f82043df",
   "metadata": {},
   "outputs": [],
   "source": [
    "import numpy as np \n",
    "import pandas as pd \n"
   ]
  },
  {
   "cell_type": "code",
   "execution_count": 4,
   "id": "7e495f54",
   "metadata": {},
   "outputs": [
    {
     "name": "stdout",
     "output_type": "stream",
     "text": [
      "0     4\n",
      "1     8\n",
      "2    15\n",
      "3    17\n",
      "4    23\n",
      "5    42\n",
      "dtype: int64\n"
     ]
    }
   ],
   "source": [
    "data = [4,8,15,17,23,42]\n",
    "df = pd.Series(data)\n",
    "print(df)"
   ]
  },
  {
   "cell_type": "code",
   "execution_count": 5,
   "id": "5d0a9fa4",
   "metadata": {},
   "outputs": [
    {
     "data": {
      "text/plain": [
       "pandas.core.series.Series"
      ]
     },
     "execution_count": 5,
     "metadata": {},
     "output_type": "execute_result"
    }
   ],
   "source": [
    "type(df)"
   ]
  },
  {
   "cell_type": "markdown",
   "id": "2408b7ff",
   "metadata": {},
   "source": [
    "Q 2  : Create a variable of list type containing 10 elements in it, and apply pandas.Series function on the\n",
    "variable print it."
   ]
  },
  {
   "cell_type": "code",
   "execution_count": 6,
   "id": "460cf755",
   "metadata": {},
   "outputs": [
    {
     "name": "stdout",
     "output_type": "stream",
     "text": [
      "0     1\n",
      "1     2\n",
      "2     3\n",
      "3     4\n",
      "4     5\n",
      "5     6\n",
      "6     7\n",
      "7     8\n",
      "8     9\n",
      "9    10\n",
      "dtype: int64\n"
     ]
    }
   ],
   "source": [
    "import pandas as pd\n",
    "\n",
    "# Create a list with 10 elements\n",
    "my_list = [1, 2, 3, 4, 5, 6, 7, 8, 9, 10]\n",
    "\n",
    "# Convert the list into a pandas Series\n",
    "my_series = pd.Series(my_list)\n",
    "\n",
    "# Print the Series\n",
    "print(my_series)"
   ]
  },
  {
   "cell_type": "markdown",
   "id": "afe592f3",
   "metadata": {},
   "source": [
    "Q 3  : \n",
    "    create a  Data frame: \n",
    "    "
   ]
  },
  {
   "cell_type": "code",
   "execution_count": 12,
   "id": "683aabab",
   "metadata": {},
   "outputs": [
    {
     "name": "stdout",
     "output_type": "stream",
     "text": [
      "     Name  Age  Gender\n",
      "0   Alice   25  Female\n",
      "1     Bob   30    Male\n",
      "2  Claire   27  Female\n"
     ]
    }
   ],
   "source": [
    "data = {'Name':['Alice','Bob','Claire'] , \n",
    "         'Age':[25,30,27],\n",
    "          'Gender':['Female','Male','Female']}\n",
    "\n",
    "\n",
    "dataframe_ = pd.DataFrame(data)\n",
    "\n",
    "print(dataframe_)"
   ]
  },
  {
   "cell_type": "markdown",
   "id": "fd8b4506",
   "metadata": {},
   "source": [
    "# Q.4\n"
   ]
  },
  {
   "cell_type": "markdown",
   "id": "98659c32",
   "metadata": {},
   "source": [
    "Q4: Q4. What is ‘DataFrame’ in pandas and how is it different from pandas.series? Explain with an example."
   ]
  },
  {
   "cell_type": "markdown",
   "id": "2f763f99",
   "metadata": {},
   "source": [
    "Pandas Series is a one-dimensional labeled array that can hold data of any type. It is similar to a single column in a spreadsheet or a single feature in a dataset .\n",
    "\n",
    "In pandas, a DataFrame is a two-dimensional, size-mutable, and heterogeneous tabular data structure with labeled axes (rows and columns) \n",
    "Each column in a DataFrame can contain different data types (e.g., integers, strings, floats), and you can perform various data manipulation and analysis operations on it. Essentially, a DataFrame is a collection of pandas Series objects where each Series represents a column, and all Series share the same index."
   ]
  },
  {
   "cell_type": "code",
   "execution_count": 14,
   "id": "e149c6a4",
   "metadata": {
    "scrolled": true
   },
   "outputs": [
    {
     "name": "stdout",
     "output_type": "stream",
     "text": [
      "0     1\n",
      "1    23\n",
      "2     3\n",
      "3    92\n",
      "4    29\n",
      "dtype: int64\n"
     ]
    }
   ],
   "source": [
    "series_1 = [1,23,3,92, 29]\n",
    "series_data = pd.Series(series_1)\n",
    "print(series_data)"
   ]
  },
  {
   "cell_type": "code",
   "execution_count": 26,
   "id": "79426160",
   "metadata": {},
   "outputs": [
    {
     "name": "stdout",
     "output_type": "stream",
     "text": [
      "0     1\n",
      "1    23\n",
      "2     3\n",
      "3    92\n",
      "4    29\n",
      "dtype: int64\n"
     ]
    },
    {
     "data": {
      "text/plain": [
       "pandas.core.series.Series"
      ]
     },
     "execution_count": 26,
     "metadata": {},
     "output_type": "execute_result"
    }
   ],
   "source": [
    "series_2 = [92,938,9238,918,938]\n",
    "series_data_2 = pd.Series(series_2)\n",
    "print(series_data)\n",
    "type(series_data_2)"
   ]
  },
  {
   "cell_type": "code",
   "execution_count": 23,
   "id": "5b34bbbf",
   "metadata": {},
   "outputs": [],
   "source": [
    "DataFrame_combining_series = pd.DataFrame(index = [series_1,series_2])"
   ]
  },
  {
   "cell_type": "code",
   "execution_count": 24,
   "id": "7ac68c18",
   "metadata": {},
   "outputs": [
    {
     "data": {
      "text/html": [
       "<div>\n",
       "<style scoped>\n",
       "    .dataframe tbody tr th:only-of-type {\n",
       "        vertical-align: middle;\n",
       "    }\n",
       "\n",
       "    .dataframe tbody tr th {\n",
       "        vertical-align: top;\n",
       "    }\n",
       "\n",
       "    .dataframe thead th {\n",
       "        text-align: right;\n",
       "    }\n",
       "</style>\n",
       "<table border=\"1\" class=\"dataframe\">\n",
       "  <thead>\n",
       "    <tr style=\"text-align: right;\">\n",
       "      <th></th>\n",
       "      <th></th>\n",
       "    </tr>\n",
       "  </thead>\n",
       "  <tbody>\n",
       "    <tr>\n",
       "      <th>1</th>\n",
       "      <th>92</th>\n",
       "    </tr>\n",
       "    <tr>\n",
       "      <th>23</th>\n",
       "      <th>938</th>\n",
       "    </tr>\n",
       "    <tr>\n",
       "      <th>3</th>\n",
       "      <th>9238</th>\n",
       "    </tr>\n",
       "    <tr>\n",
       "      <th>92</th>\n",
       "      <th>918</th>\n",
       "    </tr>\n",
       "    <tr>\n",
       "      <th>29</th>\n",
       "      <th>938</th>\n",
       "    </tr>\n",
       "  </tbody>\n",
       "</table>\n",
       "</div>"
      ],
      "text/plain": [
       "Empty DataFrame\n",
       "Columns: []\n",
       "Index: [(1, 92), (23, 938), (3, 9238), (92, 918), (29, 938)]"
      ]
     },
     "execution_count": 24,
     "metadata": {},
     "output_type": "execute_result"
    }
   ],
   "source": [
    "DataFrame_combining_series"
   ]
  },
  {
   "cell_type": "code",
   "execution_count": 27,
   "id": "5c4030d3",
   "metadata": {},
   "outputs": [
    {
     "data": {
      "text/plain": [
       "pandas.core.frame.DataFrame"
      ]
     },
     "execution_count": 27,
     "metadata": {},
     "output_type": "execute_result"
    }
   ],
   "source": [
    "type(DataFrame_combining_series) # here is the difference , its combinations of several series "
   ]
  },
  {
   "cell_type": "code",
   "execution_count": 1,
   "id": "2db19a7e",
   "metadata": {},
   "outputs": [],
   "source": [
    "# Q.5"
   ]
  },
  {
   "cell_type": "markdown",
   "id": "491cdc8d",
   "metadata": {},
   "source": [
    "What are some common functions you can use to manipulate data in a Pandas DataFrame? Can\n",
    "you give an example of when you might use one of these functions?"
   ]
  },
  {
   "cell_type": "markdown",
   "id": "facdec01",
   "metadata": {},
   "source": [
    "There are many common functions that we use in pandas like : info, describe, shape , head.\n",
    "    \n",
    "    head() : used to get some rows from initial , for eg: head(10) : show first 10 records of the datas"
   ]
  },
  {
   "cell_type": "code",
   "execution_count": 6,
   "id": "16b60a42",
   "metadata": {},
   "outputs": [],
   "source": [
    "import pandas as pd\n",
    "data_1 = {'Height':[165,170,169,175,185],'Weight':[89,78,70,78,85]}\n",
    "\n",
    "df_new = pd.DataFrame(data_1)"
   ]
  },
  {
   "cell_type": "code",
   "execution_count": 9,
   "id": "a0f6ad2d",
   "metadata": {},
   "outputs": [
    {
     "data": {
      "text/html": [
       "<div>\n",
       "<style scoped>\n",
       "    .dataframe tbody tr th:only-of-type {\n",
       "        vertical-align: middle;\n",
       "    }\n",
       "\n",
       "    .dataframe tbody tr th {\n",
       "        vertical-align: top;\n",
       "    }\n",
       "\n",
       "    .dataframe thead th {\n",
       "        text-align: right;\n",
       "    }\n",
       "</style>\n",
       "<table border=\"1\" class=\"dataframe\">\n",
       "  <thead>\n",
       "    <tr style=\"text-align: right;\">\n",
       "      <th></th>\n",
       "      <th>Height</th>\n",
       "      <th>Weight</th>\n",
       "    </tr>\n",
       "  </thead>\n",
       "  <tbody>\n",
       "    <tr>\n",
       "      <th>0</th>\n",
       "      <td>165</td>\n",
       "      <td>89</td>\n",
       "    </tr>\n",
       "    <tr>\n",
       "      <th>1</th>\n",
       "      <td>170</td>\n",
       "      <td>78</td>\n",
       "    </tr>\n",
       "    <tr>\n",
       "      <th>2</th>\n",
       "      <td>169</td>\n",
       "      <td>70</td>\n",
       "    </tr>\n",
       "  </tbody>\n",
       "</table>\n",
       "</div>"
      ],
      "text/plain": [
       "   Height  Weight\n",
       "0     165      89\n",
       "1     170      78\n",
       "2     169      70"
      ]
     },
     "execution_count": 9,
     "metadata": {},
     "output_type": "execute_result"
    }
   ],
   "source": [
    "df_new.head(3) # head(3) : returns 3 records"
   ]
  },
  {
   "cell_type": "code",
   "execution_count": 13,
   "id": "2beb6904",
   "metadata": {},
   "outputs": [
    {
     "name": "stdout",
     "output_type": "stream",
     "text": [
      "<class 'pandas.core.frame.DataFrame'>\n",
      "RangeIndex: 5 entries, 0 to 4\n",
      "Data columns (total 2 columns):\n",
      " #   Column  Non-Null Count  Dtype\n",
      "---  ------  --------------  -----\n",
      " 0   Height  5 non-null      int64\n",
      " 1   Weight  5 non-null      int64\n",
      "dtypes: int64(2)\n",
      "memory usage: 208.0 bytes\n"
     ]
    }
   ],
   "source": [
    "df_new.info() # infor : returns about data type of each column(or variable) , telling either column is null or not null."
   ]
  },
  {
   "cell_type": "code",
   "execution_count": 15,
   "id": "e8c97d91",
   "metadata": {},
   "outputs": [
    {
     "data": {
      "text/html": [
       "<div>\n",
       "<style scoped>\n",
       "    .dataframe tbody tr th:only-of-type {\n",
       "        vertical-align: middle;\n",
       "    }\n",
       "\n",
       "    .dataframe tbody tr th {\n",
       "        vertical-align: top;\n",
       "    }\n",
       "\n",
       "    .dataframe thead th {\n",
       "        text-align: right;\n",
       "    }\n",
       "</style>\n",
       "<table border=\"1\" class=\"dataframe\">\n",
       "  <thead>\n",
       "    <tr style=\"text-align: right;\">\n",
       "      <th></th>\n",
       "      <th>Height</th>\n",
       "      <th>Weight</th>\n",
       "    </tr>\n",
       "  </thead>\n",
       "  <tbody>\n",
       "    <tr>\n",
       "      <th>count</th>\n",
       "      <td>5.000000</td>\n",
       "      <td>5.000000</td>\n",
       "    </tr>\n",
       "    <tr>\n",
       "      <th>mean</th>\n",
       "      <td>172.800000</td>\n",
       "      <td>80.000000</td>\n",
       "    </tr>\n",
       "    <tr>\n",
       "      <th>std</th>\n",
       "      <td>7.694154</td>\n",
       "      <td>7.314369</td>\n",
       "    </tr>\n",
       "    <tr>\n",
       "      <th>min</th>\n",
       "      <td>165.000000</td>\n",
       "      <td>70.000000</td>\n",
       "    </tr>\n",
       "    <tr>\n",
       "      <th>25%</th>\n",
       "      <td>169.000000</td>\n",
       "      <td>78.000000</td>\n",
       "    </tr>\n",
       "    <tr>\n",
       "      <th>50%</th>\n",
       "      <td>170.000000</td>\n",
       "      <td>78.000000</td>\n",
       "    </tr>\n",
       "    <tr>\n",
       "      <th>75%</th>\n",
       "      <td>175.000000</td>\n",
       "      <td>85.000000</td>\n",
       "    </tr>\n",
       "    <tr>\n",
       "      <th>max</th>\n",
       "      <td>185.000000</td>\n",
       "      <td>89.000000</td>\n",
       "    </tr>\n",
       "  </tbody>\n",
       "</table>\n",
       "</div>"
      ],
      "text/plain": [
       "           Height     Weight\n",
       "count    5.000000   5.000000\n",
       "mean   172.800000  80.000000\n",
       "std      7.694154   7.314369\n",
       "min    165.000000  70.000000\n",
       "25%    169.000000  78.000000\n",
       "50%    170.000000  78.000000\n",
       "75%    175.000000  85.000000\n",
       "max    185.000000  89.000000"
      ]
     },
     "execution_count": 15,
     "metadata": {},
     "output_type": "execute_result"
    }
   ],
   "source": [
    "df_new.describe() # describe : shows different statistical informations and various insights about the data ,(5 summary points about data)"
   ]
  },
  {
   "cell_type": "code",
   "execution_count": 17,
   "id": "dbf3802f",
   "metadata": {},
   "outputs": [
    {
     "data": {
      "text/plain": [
       "(5, 2)"
      ]
     },
     "execution_count": 17,
     "metadata": {},
     "output_type": "execute_result"
    }
   ],
   "source": [
    "df_new.shape # returns about dimensions about data : 5 rows and 2 columns"
   ]
  },
  {
   "cell_type": "markdown",
   "id": "c4855a2b",
   "metadata": {},
   "source": [
    "# Q 6 :"
   ]
  },
  {
   "cell_type": "markdown",
   "id": "92ad72e0",
   "metadata": {},
   "source": [
    "Which of the following is mutable in nature Series, DataFrame, Panel?"
   ]
  },
  {
   "cell_type": "markdown",
   "id": "84d4097f",
   "metadata": {},
   "source": [
    "In Pandas, Series and DataFrame are mutable, while Panel is considered deprecated and no longer recommended for use as of Pandas version 0.25.0. Therefore, we should primarily work with Series and DataFrame objects when using Pandas for data manipulation and analysis."
   ]
  },
  {
   "cell_type": "markdown",
   "id": "fcab5761",
   "metadata": {},
   "source": [
    "A Series is a one-dimensional labeled array, and its values can be modified after creation"
   ]
  },
  {
   "cell_type": "code",
   "execution_count": 20,
   "id": "4b7b2648",
   "metadata": {},
   "outputs": [],
   "source": [
    "s = pd.Series([1, 2, 3, 4])\n",
    "s[2] = 99 # modification at index 2 is 99"
   ]
  },
  {
   "cell_type": "code",
   "execution_count": 21,
   "id": "c0fd65a4",
   "metadata": {},
   "outputs": [
    {
     "data": {
      "text/plain": [
       "0     1\n",
       "1     2\n",
       "2    99\n",
       "3     4\n",
       "dtype: int64"
      ]
     },
     "execution_count": 21,
     "metadata": {},
     "output_type": "execute_result"
    }
   ],
   "source": [
    "s.head()"
   ]
  },
  {
   "cell_type": "code",
   "execution_count": 29,
   "id": "0bf0b071",
   "metadata": {},
   "outputs": [],
   "source": [
    "df_new_after_modification=df_new['Weight'][0]=20 # changes in modification"
   ]
  },
  {
   "cell_type": "markdown",
   "id": "b0a01fa4",
   "metadata": {},
   "source": [
    "# Q 7"
   ]
  },
  {
   "cell_type": "markdown",
   "id": "2cede383",
   "metadata": {},
   "source": [
    "Create a DataFrame using multiple Series. Explain with an example."
   ]
  },
  {
   "cell_type": "code",
   "execution_count": 31,
   "id": "f0956ef5",
   "metadata": {},
   "outputs": [],
   "source": [
    "series_1 = pd.Series([1,2,3,4,5],name = 'column1')"
   ]
  },
  {
   "cell_type": "code",
   "execution_count": 32,
   "id": "bc1cda10",
   "metadata": {},
   "outputs": [],
   "source": [
    "series_2 = pd.Series(['a','b','c','d','e'],name = 'column2')"
   ]
  },
  {
   "cell_type": "code",
   "execution_count": 35,
   "id": "5b90a4be",
   "metadata": {},
   "outputs": [],
   "source": [
    "df_data = pd.DataFrame({'column1':series_1,'column2':series_2})"
   ]
  },
  {
   "cell_type": "code",
   "execution_count": 36,
   "id": "8fa149d9",
   "metadata": {},
   "outputs": [
    {
     "data": {
      "text/html": [
       "<div>\n",
       "<style scoped>\n",
       "    .dataframe tbody tr th:only-of-type {\n",
       "        vertical-align: middle;\n",
       "    }\n",
       "\n",
       "    .dataframe tbody tr th {\n",
       "        vertical-align: top;\n",
       "    }\n",
       "\n",
       "    .dataframe thead th {\n",
       "        text-align: right;\n",
       "    }\n",
       "</style>\n",
       "<table border=\"1\" class=\"dataframe\">\n",
       "  <thead>\n",
       "    <tr style=\"text-align: right;\">\n",
       "      <th></th>\n",
       "      <th>column1</th>\n",
       "      <th>column2</th>\n",
       "    </tr>\n",
       "  </thead>\n",
       "  <tbody>\n",
       "    <tr>\n",
       "      <th>0</th>\n",
       "      <td>1</td>\n",
       "      <td>a</td>\n",
       "    </tr>\n",
       "    <tr>\n",
       "      <th>1</th>\n",
       "      <td>2</td>\n",
       "      <td>b</td>\n",
       "    </tr>\n",
       "    <tr>\n",
       "      <th>2</th>\n",
       "      <td>3</td>\n",
       "      <td>c</td>\n",
       "    </tr>\n",
       "    <tr>\n",
       "      <th>3</th>\n",
       "      <td>4</td>\n",
       "      <td>d</td>\n",
       "    </tr>\n",
       "    <tr>\n",
       "      <th>4</th>\n",
       "      <td>5</td>\n",
       "      <td>e</td>\n",
       "    </tr>\n",
       "  </tbody>\n",
       "</table>\n",
       "</div>"
      ],
      "text/plain": [
       "   column1 column2\n",
       "0        1       a\n",
       "1        2       b\n",
       "2        3       c\n",
       "3        4       d\n",
       "4        5       e"
      ]
     },
     "execution_count": 36,
     "metadata": {},
     "output_type": "execute_result"
    }
   ],
   "source": [
    "df_data"
   ]
  },
  {
   "cell_type": "code",
   "execution_count": null,
   "id": "67cfae0f",
   "metadata": {},
   "outputs": [],
   "source": []
  }
 ],
 "metadata": {
  "kernelspec": {
   "display_name": "Python 3 (ipykernel)",
   "language": "python",
   "name": "python3"
  },
  "language_info": {
   "codemirror_mode": {
    "name": "ipython",
    "version": 3
   },
   "file_extension": ".py",
   "mimetype": "text/x-python",
   "name": "python",
   "nbconvert_exporter": "python",
   "pygments_lexer": "ipython3",
   "version": "3.9.12"
  }
 },
 "nbformat": 4,
 "nbformat_minor": 5
}
